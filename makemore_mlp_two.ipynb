{
 "cells": [
  {
   "cell_type": "code",
   "execution_count": null,
   "id": "a537c0b0",
   "metadata": {},
   "outputs": [],
   "source": [
    "## Tutorial by Andrej Karpathy\n",
    "## Link: https://www.youtube.com/watch?v=TCH_1BHY58I"
   ]
  },
  {
   "cell_type": "code",
   "execution_count": 58,
   "id": "5da72f31",
   "metadata": {},
   "outputs": [],
   "source": [
    "import torch\n",
    "import torch.nn.functional as F\n",
    "import matplotlib.pyplot as plt\n",
    "import random"
   ]
  },
  {
   "cell_type": "code",
   "execution_count": 77,
   "id": "02c81dbb",
   "metadata": {},
   "outputs": [],
   "source": [
    "words = open('names.txt', 'r').read().splitlines()\n",
    "chars = sorted(list(set(''.join(words))))\n",
    "chars = ['.'] + chars\n",
    "stoi = {n:i for i,n in enumerate(chars)}\n",
    "itos = {n:i for i,n in stoi.items()}"
   ]
  },
  {
   "cell_type": "code",
   "execution_count": 93,
   "id": "6d7adf07",
   "metadata": {},
   "outputs": [],
   "source": [
    "block_size = 3\n",
    "\n",
    "def build_dataset(words):\n",
    "    X, Y = [], []\n",
    "    for w in words:\n",
    "        context = '.'*block_size\n",
    "        for i, ch in enumerate(w + '.'):\n",
    "            curr_x = context\n",
    "            req = block_size - len(context)\n",
    "            temp_w = w[:i]\n",
    "            temp_w = temp_w[len(temp_w)-req:]\n",
    "            curr_x += temp_w\n",
    "            context = context[:-1]\n",
    "            X.append([stoi[x_ch] for x_ch in curr_x])\n",
    "            Y.append(stoi[ch])\n",
    "    X = torch.tensor(X)\n",
    "    Y = torch.tensor(Y)\n",
    "    return X, Y\n",
    "\n",
    "random.seed(40)\n",
    "random.shuffle(words)\n",
    "n1 = int(0.8 * len(words))\n",
    "n2 = int(0.9 * len(words))\n",
    "\n",
    "Xtr, Ytr = build_dataset(words[:n1])\n",
    "Xdev, Ydev = build_dataset(words[n1:n2])\n",
    "Xte, Yte = build_dataset(words[n2:])"
   ]
  },
  {
   "cell_type": "code",
   "execution_count": 97,
   "id": "47752287",
   "metadata": {},
   "outputs": [
    {
     "data": {
      "text/plain": [
       "11897"
      ]
     },
     "execution_count": 97,
     "metadata": {},
     "output_type": "execute_result"
    }
   ],
   "source": [
    "# constants\n",
    "chars_len = len(chars)\n",
    "n_embd = 10\n",
    "n_hidden = 200\n",
    "\n",
    "# parameters\n",
    "C = torch.randn((chars_len, n_embd))\n",
    "W1 = torch.randn((n_embd * block_size, n_hidden)) * (5/3) / ((n_embd * block_size) ** 0.5)\n",
    "b1 = torch.randn(n_hidden) * 0.01\n",
    "W2 = torch.randn((n_hidden, chars_len)) * 0.01\n",
    "b2 = torch.randn(chars_len) * 0\n",
    "parameters = [C, W1, b1, W2, b2]\n",
    "\n",
    "# setting require_grad to True for parameters\n",
    "for p in parameters:\n",
    "    p.requires_grad = True\n",
    "\n",
    "sum(p.nelement() for p in parameters)"
   ]
  },
  {
   "cell_type": "code",
   "execution_count": 102,
   "id": "13cdbf36",
   "metadata": {},
   "outputs": [
    {
     "name": "stdout",
     "output_type": "stream",
     "text": [
      "3.31072998046875\n",
      "2.2399492263793945\n",
      "2.094904899597168\n",
      "2.088041305541992\n",
      "2.267061233520508\n",
      "2.4433250427246094\n",
      "2.1857595443725586\n",
      "2.0996737480163574\n",
      "2.3101720809936523\n",
      "2.1282858848571777\n",
      "1.9444630146026611\n",
      "2.208054304122925\n",
      "2.0570390224456787\n",
      "2.259486675262451\n",
      "2.1074037551879883\n",
      "2.2898144721984863\n",
      "2.1217000484466553\n",
      "2.1886017322540283\n",
      "1.5514432191848755\n",
      "2.238708734512329\n",
      "2.1632025241851807\n"
     ]
    }
   ],
   "source": [
    "max_steps = 20000\n",
    "batch_size = 32\n",
    "\n",
    "losses = []\n",
    "\n",
    "for i in range(max_steps):\n",
    "    ## batch construct\n",
    "    ix = torch.randint(0, Xtr.shape[0], (batch_size,))\n",
    "    \n",
    "    ## forward\n",
    "    emb = C[Xtr[ix]]\n",
    "    emb_cat = emb.view(-1, n_embd * block_size)\n",
    "    a_pre_activation = emb_cat @ W1 + b1\n",
    "    A1 = torch.tanh(a_pre_activation)\n",
    "    logits = A1 @ W2 + b2\n",
    "    loss = F.cross_entropy(logits, Ytr[ix])\n",
    "\n",
    "    ## backward\n",
    "    for p in parameters:\n",
    "        p.grad = None\n",
    "    loss.backward()\n",
    "\n",
    "    ## updation\n",
    "    lr = 0.1 if i < 10000 else 0.01  # -> learning rate decay\n",
    "    for p in parameters:\n",
    "        p.data += -lr * p.grad\n",
    "    \n",
    "    if i % 1000 == 0:\n",
    "        print(loss.item())\n",
    "    losses.append(loss.item())\n",
    "\n",
    "print(loss.item())"
   ]
  },
  {
   "cell_type": "code",
   "execution_count": 103,
   "id": "5a5544e8",
   "metadata": {},
   "outputs": [
    {
     "data": {
      "text/plain": [
       "<matplotlib.image.AxesImage at 0x1f4251ada60>"
      ]
     },
     "execution_count": 103,
     "metadata": {},
     "output_type": "execute_result"
    },
    {
     "data": {
      "image/png": "[encoded data removed]",
      "text/plain": [
       "<Figure size 1440x720 with 1 Axes>"
      ]
     },
     "metadata": {
      "needs_background": "light"
     },
     "output_type": "display_data"
    }
   ],
   "source": [
    "plt.figure(figsize=(20, 10))\n",
    "plt.imshow(A1.abs() > 0.99, cmap='gray', interpolation='nearest')"
   ]
  },
  {
   "cell_type": "code",
   "execution_count": 104,
   "id": "91f40626",
   "metadata": {},
   "outputs": [
    {
     "data": {
      "image/png": "[encoded data removed]",
      "text/plain": [
       "<Figure size 432x288 with 1 Axes>"
      ]
     },
     "metadata": {
      "needs_background": "light"
     },
     "output_type": "display_data"
    }
   ],
   "source": [
    "plt.hist(A1.view(-1).tolist(), 50);"
   ]
  },
  {
   "cell_type": "code",
   "execution_count": 105,
   "id": "77932efe",
   "metadata": {},
   "outputs": [
    {
     "data": {
      "image/png": "[encoded data removed]",
      "text/plain": [
       "<Figure size 432x288 with 1 Axes>"
      ]
     },
     "metadata": {
      "needs_background": "light"
     },
     "output_type": "display_data"
    }
   ],
   "source": [
    "plt.hist(a_pre_activation.view(-1).tolist(), 50);"
   ]
  },
  {
   "cell_type": "code",
   "execution_count": 106,
   "id": "30cf3456",
   "metadata": {},
   "outputs": [
    {
     "data": {
      "text/plain": [
       "[<matplotlib.lines.Line2D at 0x1f425466670>]"
      ]
     },
     "execution_count": 106,
     "metadata": {},
     "output_type": "execute_result"
    },
    {
     "data": {
      "image/png": "[encoded data removed]",
      "text/plain": [
       "<Figure size 432x288 with 1 Axes>"
      ]
     },
     "metadata": {
      "needs_background": "light"
     },
     "output_type": "display_data"
    }
   ],
   "source": [
    "## Important points to be taken care of\n",
    "\n",
    "# Loss just after initialization #\n",
    "#     This should not be very high than the base normal expected loss\n",
    "#             This causes the initial optimizations to concentrate on squezing the weights and rearranging them\n",
    "#     Initial high logits are responsible for high loss\n",
    "#             High logits means, fake confidence in incorrect answers. Which are randomly generated\n",
    "#     Solution to this to minimize the logits, as all nearly to zero\n",
    "#             logits = A1 @ W2 + b2\n",
    "#             >> making b2 - zero at initialization\n",
    "#             >> scaling down W2 by 0.1 or 0.01 or smaller values\n",
    "# Taking care of activations (A1), from W1 and b1\n",
    "#     Solution - same as above scaling down W1 and b1, so that it generates smaller values of A1\n",
    "\n",
    "#### Here comes our problem, from where the magical numbers come from - that multiplied number in scaling down W1, etc.. factors\n",
    "## Kaiming normal, paper: https://arxiv.org/pdf/1502.01852.pdf\n",
    "## Kaiming normal, pytorch: https://pytorch.org/docs/stable/nn.init.html#torch.nn.init.kaiming_normal_\n",
    "\n",
    "# >>> Multiply them by (gain / sqrt(fan_in))\n",
    "# --- gain change, depending upon the activation function\n",
    "#     example:\n",
    "#         ReLu : sqrt(2)\n",
    "#         tanh : 5/3\n",
    "#         leaky relu : sqrt(2 / (1 + pow(negative_slope, 2)))\n",
    "#         sigmoid : 1\n",
    "# --- fan_in is the count of number of input layers\n",
    "\n",
    "plt.plot(losses)"
   ]
  },
  {
   "cell_type": "code",
   "execution_count": 107,
   "id": "4b356830",
   "metadata": {},
   "outputs": [
    {
     "name": "stdout",
     "output_type": "stream",
     "text": [
      "train 2.162513256072998\n",
      "dev 2.1730897426605225\n"
     ]
    }
   ],
   "source": [
    "@torch.no_grad()\n",
    "def split_loss(split_type):\n",
    "    x, y = {\n",
    "        \"train\": (Xtr, Ytr),\n",
    "        \"dev\": (Xdev, Ydev),\n",
    "        \"test\": (Xte, Yte)\n",
    "    }[split_type]\n",
    "    emb = C[x]\n",
    "    emb_cat = emb.view(emb.shape[0], -1)\n",
    "    A1 = torch.tanh(emb_cat @ W1 + b1)\n",
    "    logits = A1 @ W2 + b2\n",
    "    loss = F.cross_entropy(logits, y)\n",
    "    print(split_type, loss.item())\n",
    "\n",
    "split_loss('train')\n",
    "split_loss('dev')"
   ]
  },
  {
   "cell_type": "code",
   "execution_count": 108,
   "id": "97c20bd9",
   "metadata": {},
   "outputs": [
    {
     "name": "stdout",
     "output_type": "stream",
     "text": [
      "donnacliygharrielrienaluca.\n",
      "mitretlen.\n",
      "vinsen.\n",
      "rhya.\n",
      "terr.\n",
      "kha.\n",
      "soppaa.\n",
      "isonnie.\n",
      "haan.\n",
      "hia.\n",
      "ber.\n",
      "aviot.\n",
      "motia.\n",
      "cum.\n",
      "gbas.\n",
      "abell.\n",
      "les.\n",
      "khirind.\n",
      "mazin.\n",
      "nhi.\n"
     ]
    }
   ],
   "source": [
    "for _ in range(20):\n",
    "    out = []\n",
    "    context = [0] * block_size\n",
    "    while True:\n",
    "        emb = C[torch.tensor([context])]\n",
    "        A1 = torch.tanh(emb.view(1, -1) @ W1 + b1)\n",
    "        logits = A1 @ W2 + b2\n",
    "        probs = F.softmax(logits, dim=1)\n",
    "        ix = torch.multinomial(probs, num_samples=1).item()\n",
    "        context = context[1:] + [ix]\n",
    "        out.append(ix)\n",
    "        if ix == 0:\n",
    "            break\n",
    "    print(''.join(itos[i] for i in out))"
   ]
  },
  {
   "cell_type": "code",
   "execution_count": null,
   "id": "f6bab3be",
   "metadata": {},
   "outputs": [],
   "source": []
  }
 ],
 "metadata": {
  "kernelspec": {
   "display_name": "Python 3",
   "language": "python",
   "name": "python3"
  },
  "language_info": {
   "codemirror_mode": {
    "name": "ipython",
    "version": 3
   },
   "file_extension": ".py",
   "mimetype": "text/x-python",
   "name": "python",
   "nbconvert_exporter": "python",
   "pygments_lexer": "ipython3",
   "version": "3.8.8"
  }
 },
 "nbformat": 4,
 "nbformat_minor": 5
}
