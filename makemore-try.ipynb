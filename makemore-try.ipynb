{
 "cells": [
  {
   "cell_type": "code",
   "execution_count": 87,
   "id": "0472e9df",
   "metadata": {},
   "outputs": [],
   "source": [
    "import matplotlib.pyplot as plt\n",
    "words = open('names.txt', 'r').read().splitlines()"
   ]
  },
  {
   "cell_type": "code",
   "execution_count": 16,
   "id": "ac71b8cf",
   "metadata": {},
   "outputs": [],
   "source": [
    "# bigram_dict = {}\n",
    "# for w in words:\n",
    "#     chars = ['<start>'] + list(w) + ['<end>']\n",
    "#     for it1, it2 in zip(chars, chars[1:]):\n",
    "#         bigram = (it1, it2)\n",
    "#         bigram_dict[bigram] = bigram_dict.get(bigram, 0) + 1"
   ]
  },
  {
   "cell_type": "code",
   "execution_count": 17,
   "id": "effbae09",
   "metadata": {},
   "outputs": [],
   "source": [
    "# len(bigram_dict)"
   ]
  },
  {
   "cell_type": "code",
   "execution_count": 18,
   "id": "f259d5f0",
   "metadata": {},
   "outputs": [],
   "source": [
    "# sorted(bigram_dict.items(), key = lambda kv: -kv[1])"
   ]
  },
  {
   "cell_type": "code",
   "execution_count": 9,
   "id": "ff232e3a",
   "metadata": {},
   "outputs": [],
   "source": [
    "import torch\n",
    "#torch.zeros((2,3), dtype=torch.int32)"
   ]
  },
  {
   "cell_type": "code",
   "execution_count": 13,
   "id": "31636229",
   "metadata": {},
   "outputs": [],
   "source": [
    "chars = sorted(list(set(''.join(words))))\n",
    "chars.append('<start>')\n",
    "chars.append('<end>')\n",
    "stoi = {s:i for i,s in enumerate(chars)}\n",
    "itos = {i:s for i,s in enumerate(chars)}"
   ]
  },
  {
   "cell_type": "code",
   "execution_count": 14,
   "id": "85ece161",
   "metadata": {},
   "outputs": [],
   "source": [
    "count_matrix = torch.zeros((len(chars), len(chars)), dtype=torch.int32)"
   ]
  },
  {
   "cell_type": "code",
   "execution_count": 48,
   "id": "34d20ea7",
   "metadata": {},
   "outputs": [],
   "source": [
    "for w in words:\n",
    "    ch = ['<start>'] + list(w) + ['<end>']\n",
    "    for it1, it2 in zip(ch, ch[1:]):\n",
    "        ix1 = stoi[it1]\n",
    "        ix2 = stoi[it2]\n",
    "        count_matrix[ix1, ix2] += 1"
   ]
  },
  {
   "cell_type": "code",
   "execution_count": 50,
   "id": "bf64dd6c",
   "metadata": {},
   "outputs": [
    {
     "data": {
      "text/plain": [
       "tensor([ 1668,  1623,  1410,  3126,  2076,   402,   504,  6996,  4950,   525,\n",
       "         1704,  7584,  4902, 16314,   189,   246,   180,  9792,  3354,  2061,\n",
       "         1143,  2502,   483,   546,  6150,  1305,     0, 19920],\n",
       "       dtype=torch.int32)"
      ]
     },
     "execution_count": 50,
     "metadata": {},
     "output_type": "execute_result"
    }
   ],
   "source": [
    "count_matrix[0]"
   ]
  },
  {
   "cell_type": "code",
   "execution_count": 66,
   "id": "454e6e4e",
   "metadata": {},
   "outputs": [],
   "source": [
    "gen = torch.Generator().manual_seed(245938472738)\n",
    "# p = torch.rand(3, generator = gen)\n",
    "# p = p / p.sum()"
   ]
  },
  {
   "cell_type": "code",
   "execution_count": 69,
   "id": "30f524d8",
   "metadata": {},
   "outputs": [],
   "source": [
    "# below it's count_matrix + 1, to smooth the model regarding \n",
    "prob_matrix = (count_matrix + 1).float()\n",
    "prob_matrix /= prob_matrix.sum(1, keepdim=True)"
   ]
  },
  {
   "cell_type": "code",
   "execution_count": 70,
   "id": "e817dede",
   "metadata": {},
   "outputs": [
    {
     "name": "stdout",
     "output_type": "stream",
     "text": [
      "shazx\n",
      "\n",
      "d\n",
      "lellimili\n",
      "\n",
      "lluromry\n",
      "gand\n",
      "ce\n",
      "\n",
      "hrren\n"
     ]
    }
   ],
   "source": [
    "for _ in range(10):\n",
    "    ix = 0\n",
    "    string = \"\"\n",
    "    while True:\n",
    "        p = prob_matrix[ix]\n",
    "        ix = torch.multinomial(p, num_samples=1, replacement=True, generator=gen).item()\n",
    "        if itos[ix] == '<start>':\n",
    "            continue\n",
    "        if itos[ix] == '<end>':\n",
    "            break\n",
    "        string += itos[ix]\n",
    "    print(string)"
   ]
  },
  {
   "cell_type": "code",
   "execution_count": 71,
   "id": "2d86153d",
   "metadata": {},
   "outputs": [],
   "source": [
    "# Goal maximize likelihood of the data wrt model parameters (statistical modeling)\n",
    "\n",
    "# equivalent to maximizing the log likelihood (because log is monotonic)\n",
    "# equivalent to minimizing the negative likelihood\n",
    "# equivalent to minimizing the average negative log likelihood\n",
    "\n",
    "# log(a*b*c) = log (a) + log (b) + log(c)"
   ]
  },
  {
   "cell_type": "code",
   "execution_count": 75,
   "id": "c47fdf68",
   "metadata": {},
   "outputs": [
    {
     "data": {
      "text/plain": [
       "2.4544034004211426"
      ]
     },
     "execution_count": 75,
     "metadata": {},
     "output_type": "execute_result"
    }
   ],
   "source": [
    "log_likelihood = 0.0\n",
    "log_items_count = 0\n",
    "for w in words[:]:\n",
    "    ch = ['<start>'] + list(w) + ['<end>']\n",
    "    for ch1, ch2 in zip(ch, ch[1:]):\n",
    "        ix1 = stoi[ch1]\n",
    "        ix2 = stoi[ch2]\n",
    "        prob = prob_matrix[ix1, ix2]\n",
    "        log_likelihood += torch.log(prob)\n",
    "        log_items_count += 1\n",
    "neg_log_likelihood = -log_likelihood\n",
    "avg_nll = neg_log_likelihood / log_items_count\n",
    "avg_nll.item()"
   ]
  },
  {
   "cell_type": "code",
   "execution_count": 181,
   "id": "7d1d0aa3",
   "metadata": {},
   "outputs": [],
   "source": [
    "xs = []\n",
    "ys = []\n",
    "for w in words:\n",
    "    ch = ['<start>'] + list(w) + ['<end>']\n",
    "    for ch1, ch2 in zip(ch, ch[1:]):\n",
    "        ix1 = stoi[ch1]\n",
    "        ix2 = stoi[ch2]\n",
    "        xs.append(ix1)\n",
    "        ys.append(ix2)\n",
    "xs = torch.tensor(xs)\n",
    "ys = torch.tensor(ys)"
   ]
  },
  {
   "cell_type": "code",
   "execution_count": 182,
   "id": "be632f48",
   "metadata": {},
   "outputs": [],
   "source": [
    "import torch.nn.functional as F\n",
    "\n",
    "# randomly initializing len(chars) no of neurons, each neuron receives len(chars) inputs\n",
    "W = torch.randn((len(chars), len(chars)), requires_grad=True)\n",
    "\n",
    "# xenc = F.one_hot(xs, num_classes=len(chars)).float()\n",
    "# plt.imshow(xenc)"
   ]
  },
  {
   "cell_type": "code",
   "execution_count": 200,
   "id": "9a02286e",
   "metadata": {},
   "outputs": [
    {
     "name": "stdout",
     "output_type": "stream",
     "text": [
      "2.4596476554870605\n",
      "2.459627866744995\n",
      "2.459608316421509\n",
      "2.4595890045166016\n",
      "2.4595694541931152\n",
      "2.459550619125366\n",
      "2.459531307220459\n",
      "2.459512710571289\n",
      "2.45949387550354\n",
      "2.45947527885437\n"
     ]
    }
   ],
   "source": [
    "# loop for forward, backward, and updation - gradient descent\n",
    "for _ in range(10):\n",
    "    # forward\n",
    "    xenc = F.one_hot(xs, num_classes=len(chars)).float()\n",
    "    # log-counts\n",
    "    logits = xenc @ W\n",
    "    # exponent function - generate equivalent N\n",
    "    counts = logits.exp()\n",
    "    # softmax activation function\n",
    "    probs = counts / counts.sum(1, keepdims=True)\n",
    "    # loss function (mean of negative log likelihood)\n",
    "    loss = -probs[torch.arange(len(ys)), ys].log().mean()\n",
    "    print(loss.item())\n",
    "\n",
    "    # backward\n",
    "    W.grad = None\n",
    "    loss.backward()\n",
    "\n",
    "    # W updation\n",
    "    W.data += -50 * W.grad"
   ]
  },
  {
   "cell_type": "code",
   "execution_count": 206,
   "id": "946c0275",
   "metadata": {},
   "outputs": [
    {
     "name": "stdout",
     "output_type": "stream",
     "text": [
      "yn\n",
      "llyllash\n",
      "ayar\n",
      "y\n",
      "ni\n",
      "m\n",
      "rapae\n",
      "ieletatynayndivizaerelyala\n",
      "raceeee\n",
      "sara\n"
     ]
    }
   ],
   "source": [
    "## words generation\n",
    "\n",
    "for _ in range(10):\n",
    "    ix = 0\n",
    "    string = \"\"\n",
    "    while True:\n",
    "        ## using bigram model ##\n",
    "#         p = prob_matrix[ix]\n",
    "        ########################\n",
    "        ## using neural network ##\n",
    "        xenc = F.one_hot(torch.tensor([ix]), num_classes=len(chars)).float()\n",
    "        logits = xenc @ W\n",
    "        counts = logits.exp()\n",
    "        p = counts / counts.sum(1, keepdims=True)\n",
    "        ##########################\n",
    "        ix = torch.multinomial(p, num_samples=1, replacement=True, generator=gen).item()\n",
    "        if itos[ix] == '<start>':\n",
    "            continue\n",
    "        if itos[ix] == '<end>':\n",
    "            break\n",
    "        string += itos[ix]\n",
    "    print(string)"
   ]
  },
  {
   "cell_type": "code",
   "execution_count": 176,
   "id": "8885e6b9",
   "metadata": {},
   "outputs": [],
   "source": []
  }
 ],
 "metadata": {
  "kernelspec": {
   "display_name": "Python 3",
   "language": "python",
   "name": "python3"
  },
  "language_info": {
   "codemirror_mode": {
    "name": "ipython",
    "version": 3
   },
   "file_extension": ".py",
   "mimetype": "text/x-python",
   "name": "python",
   "nbconvert_exporter": "python",
   "pygments_lexer": "ipython3",
   "version": "3.8.8"
  }
 },
 "nbformat": 4,
 "nbformat_minor": 5
}
