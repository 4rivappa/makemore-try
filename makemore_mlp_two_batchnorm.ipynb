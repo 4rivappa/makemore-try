{
 "cells": [
  {
   "cell_type": "code",
   "execution_count": null,
   "id": "a537c0b0",
   "metadata": {},
   "outputs": [],
   "source": [
    "## Tutorial by Andrej Karpathy\n",
    "## Link: https://www.youtube.com/watch?v=TCH_1BHY58I"
   ]
  },
  {
   "cell_type": "code",
   "execution_count": 1,
   "id": "5da72f31",
   "metadata": {},
   "outputs": [],
   "source": [
    "import torch\n",
    "import torch.nn.functional as F\n",
    "import matplotlib.pyplot as plt\n",
    "import random"
   ]
  },
  {
   "cell_type": "code",
   "execution_count": 2,
   "id": "02c81dbb",
   "metadata": {},
   "outputs": [],
   "source": [
    "words = open('names.txt', 'r').read().splitlines()\n",
    "chars = sorted(list(set(''.join(words))))\n",
    "chars = ['.'] + chars\n",
    "stoi = {n:i for i,n in enumerate(chars)}\n",
    "itos = {n:i for i,n in stoi.items()}"
   ]
  },
  {
   "cell_type": "code",
   "execution_count": 3,
   "id": "6d7adf07",
   "metadata": {},
   "outputs": [],
   "source": [
    "block_size = 3\n",
    "\n",
    "def build_dataset(words):\n",
    "    X, Y = [], []\n",
    "    for w in words:\n",
    "        context = '.'*block_size\n",
    "        for i, ch in enumerate(w + '.'):\n",
    "            curr_x = context\n",
    "            req = block_size - len(context)\n",
    "            temp_w = w[:i]\n",
    "            temp_w = temp_w[len(temp_w)-req:]\n",
    "            curr_x += temp_w\n",
    "            context = context[:-1]\n",
    "            X.append([stoi[x_ch] for x_ch in curr_x])\n",
    "            Y.append(stoi[ch])\n",
    "    X = torch.tensor(X)\n",
    "    Y = torch.tensor(Y)\n",
    "    return X, Y\n",
    "\n",
    "random.seed(40)\n",
    "random.shuffle(words)\n",
    "n1 = int(0.8 * len(words))\n",
    "n2 = int(0.9 * len(words))\n",
    "\n",
    "Xtr, Ytr = build_dataset(words[:n1])\n",
    "Xdev, Ydev = build_dataset(words[n1:n2])\n",
    "Xte, Yte = build_dataset(words[n2:])"
   ]
  },
  {
   "cell_type": "code",
   "execution_count": 5,
   "id": "47752287",
   "metadata": {},
   "outputs": [
    {
     "data": {
      "text/plain": [
       "12297"
      ]
     },
     "execution_count": 5,
     "metadata": {},
     "output_type": "execute_result"
    }
   ],
   "source": [
    "# constants\n",
    "chars_len = len(chars)\n",
    "n_embd = 10\n",
    "n_hidden = 200\n",
    "\n",
    "# parameters\n",
    "C = torch.randn((chars_len, n_embd))\n",
    "W1 = torch.randn((n_embd * block_size, n_hidden)) * (5/3) / ((n_embd * block_size) ** 0.5)\n",
    "b1 = torch.randn(n_hidden) * 0.01\n",
    "W2 = torch.randn((n_hidden, chars_len)) * 0.01\n",
    "b2 = torch.randn(chars_len) * 0\n",
    "\n",
    "## parameters to batch normalization\n",
    "bn_gain = torch.ones((1, n_hidden))\n",
    "bn_bias = torch.zeros((1, n_hidden))\n",
    "\n",
    "parameters = [C, W1, b1, W2, b2, bn_gain, bn_bias]\n",
    "\n",
    "# setting require_grad to True for parameters\n",
    "for p in parameters:\n",
    "    p.requires_grad = True\n",
    "\n",
    "sum(p.nelement() for p in parameters)"
   ]
  },
  {
   "cell_type": "code",
   "execution_count": 17,
   "id": "13cdbf36",
   "metadata": {},
   "outputs": [
    {
     "name": "stdout",
     "output_type": "stream",
     "text": [
      "2.3303122520446777\n",
      "1.697058081626892\n",
      "2.4200055599212646\n",
      "2.1392695903778076\n",
      "2.0257599353790283\n",
      "2.343726396560669\n",
      "2.6274540424346924\n",
      "2.1376843452453613\n",
      "2.1110544204711914\n",
      "2.8469507694244385\n",
      "2.237490177154541\n",
      "2.0767178535461426\n",
      "1.9809484481811523\n",
      "2.1025028228759766\n",
      "2.195162057876587\n",
      "2.1524507999420166\n",
      "2.0449159145355225\n",
      "2.344242811203003\n",
      "2.555375337600708\n",
      "2.070828437805176\n",
      "2.5172553062438965\n"
     ]
    }
   ],
   "source": [
    "max_steps = 20000\n",
    "batch_size = 32\n",
    "\n",
    "losses = []\n",
    "\n",
    "for i in range(max_steps):\n",
    "    ## batch construct\n",
    "    ix = torch.randint(0, Xtr.shape[0], (batch_size,))\n",
    "    \n",
    "    ## forward\n",
    "    emb = C[Xtr[ix]]\n",
    "    emb_cat = emb.view(-1, n_embd * block_size)\n",
    "    a_pre_activation = emb_cat @ W1 + b1\n",
    "    \n",
    "    ######### BATCH NORMALIZATION ###########\n",
    "    # below is the normalized version\n",
    "    # a_pre_activation = (a_pre_activation - a_pre_activation.mean(0, keepdims=True)) / a_pre_activation.std(0, keepdims=True)\n",
    "    \n",
    "    # below is the scaled (bn_gain) and shifted (bn_bias) version of normalized\n",
    "    a_pre_activation = ((a_pre_activation - a_pre_activation.mean(0, keepdims=True)) / a_pre_activation.std(0, keepdims=True)) * bn_gain + bn_bias\n",
    "    \n",
    "    #########################################\n",
    "    \n",
    "    A1 = torch.tanh(a_pre_activation)\n",
    "    logits = A1 @ W2 + b2\n",
    "    loss = F.cross_entropy(logits, Ytr[ix])\n",
    "\n",
    "    ## backward\n",
    "    for p in parameters:\n",
    "        p.grad = None\n",
    "    loss.backward()\n",
    "\n",
    "    ## updation\n",
    "    lr = 0.1 if i < 10000 else 0.01  # -> learning rate decay\n",
    "    for p in parameters:\n",
    "        p.data += -lr * p.grad\n",
    "    \n",
    "    if i % 1000 == 0:\n",
    "        print(loss.item())\n",
    "    losses.append(loss.item())\n",
    "\n",
    "print(loss.item())"
   ]
  },
  {
   "cell_type": "code",
   "execution_count": 19,
   "id": "30cf3456",
   "metadata": {},
   "outputs": [
    {
     "data": {
      "text/plain": [
       "[<matplotlib.lines.Line2D at 0x2b8891e3250>]"
      ]
     },
     "execution_count": 19,
     "metadata": {},
     "output_type": "execute_result"
    },
    {
     "data": {
      "image/png": "[encoded data removed]",
      "text/plain": [
       "<Figure size 432x288 with 1 Axes>"
      ]
     },
     "metadata": {
      "needs_background": "light"
     },
     "output_type": "display_data"
    }
   ],
   "source": [
    "## Important points to be taken care of\n",
    "\n",
    "# Loss just after initialization #\n",
    "#     This should not be very high than the base normal expected loss\n",
    "#             This causes the initial optimizations to concentrate on squezing the weights and rearranging them\n",
    "#     Initial high logits are responsible for high loss\n",
    "#             High logits means, fake confidence in incorrect answers. Which are randomly generated\n",
    "#     Solution to this to minimize the logits, as all nearly to zero\n",
    "#             logits = A1 @ W2 + b2\n",
    "#             >> making b2 - zero at initialization\n",
    "#             >> scaling down W2 by 0.1 or 0.01 or smaller values\n",
    "# Taking care of activations (A1), from W1 and b1\n",
    "#     Solution - same as above scaling down W1 and b1, so that it generates smaller values of A1\n",
    "\n",
    "#### Here comes our problem, from where the magical numbers come from - that multiplied number in scaling down W1, etc.. factors\n",
    "## Kaiming normal, paper: https://arxiv.org/pdf/1502.01852.pdf\n",
    "## Kaiming normal, pytorch: https://pytorch.org/docs/stable/nn.init.html#torch.nn.init.kaiming_normal_\n",
    "\n",
    "# >>> Multiply them by (gain / sqrt(fan_in))\n",
    "# --- gain change, depending upon the activation function\n",
    "#     example:\n",
    "#         ReLu : sqrt(2)\n",
    "#         tanh : 5/3\n",
    "#         leaky relu : sqrt(2 / (1 + pow(negative_slope, 2)))\n",
    "#         sigmoid : 1\n",
    "# --- fan_in is the count of number of input layers\n",
    "\n",
    "plt.plot(losses)"
   ]
  },
  {
   "cell_type": "code",
   "execution_count": 20,
   "id": "4b356830",
   "metadata": {},
   "outputs": [
    {
     "name": "stdout",
     "output_type": "stream",
     "text": [
      "train 2.102320909500122\n",
      "dev 2.1344051361083984\n"
     ]
    }
   ],
   "source": [
    "@torch.no_grad()\n",
    "def split_loss(split_type):\n",
    "    x, y = {\n",
    "        \"train\": (Xtr, Ytr),\n",
    "        \"dev\": (Xdev, Ydev),\n",
    "        \"test\": (Xte, Yte)\n",
    "    }[split_type]\n",
    "    emb = C[x]\n",
    "    emb_cat = emb.view(emb.shape[0], -1)\n",
    "    a_pre_activation = emb_cat @ W1 + b1\n",
    "    \n",
    "    ## BATCH NORMALIZATION\n",
    "    a_pre_activation = ((a_pre_activation - a_pre_activation.mean(0, keepdims=True)) / a_pre_activation.std(0, keepdims=True)) * bn_gain + bn_bias\n",
    "    \n",
    "    A1 = torch.tanh(a_pre_activation)\n",
    "    logits = A1 @ W2 + b2\n",
    "    loss = F.cross_entropy(logits, y)\n",
    "    print(split_type, loss.item())\n",
    "\n",
    "split_loss('train')\n",
    "split_loss('dev')"
   ]
  },
  {
   "cell_type": "code",
   "execution_count": 21,
   "id": "97c20bd9",
   "metadata": {},
   "outputs": [
    {
     "name": "stdout",
     "output_type": "stream",
     "text": [
      "icannahhaeladah.\n",
      "shreslap.\n",
      "shadrevaudifancemmashabdabrephoghajmichannahlavdareylahelle.\n",
      "sten.\n",
      "rhanne.\n",
      "grycacquett.\n",
      "skabdarceyn.\n",
      "maceaghlestacxafbylahariydshaqueffancarfardaxxe.\n",
      "pgreeharizleksafdinsseea.\n",
      "cheiscockickopalkighk.\n",
      "bcalsrescyaangiannakylaynnestyssamarritznnoraelylahleshaddectaphismbreckergfcxabfgraydsewmatza.\n",
      "shevrexzallaunsleyanashfarxadahragellskbbrlyna.\n",
      "khrabdhidmaddaniston.\n",
      "rjirlynnletzce.\n",
      "stte.\n",
      "skyjzeligzhloraffip.\n",
      "nifhanne.\n",
      "jrceylahfeo.\n",
      "wynanalajcerreer.\n",
      "cambrylassellestson.\n"
     ]
    }
   ],
   "source": [
    "for _ in range(20):\n",
    "    out = []\n",
    "    context = [0] * block_size\n",
    "    while True:\n",
    "        emb = C[torch.tensor([context])]\n",
    "        A1 = torch.tanh(emb.view(1, -1) @ W1 + b1)\n",
    "        logits = A1 @ W2 + b2\n",
    "        probs = F.softmax(logits, dim=1)\n",
    "        ix = torch.multinomial(probs, num_samples=1).item()\n",
    "        context = context[1:] + [ix]\n",
    "        out.append(ix)\n",
    "        if ix == 0:\n",
    "            break\n",
    "    print(''.join(itos[i] for i in out))"
   ]
  },
  {
   "cell_type": "code",
   "execution_count": null,
   "id": "f6bab3be",
   "metadata": {},
   "outputs": [],
   "source": []
  }
 ],
 "metadata": {
  "kernelspec": {
   "display_name": "Python 3",
   "language": "python",
   "name": "python3"
  },
  "language_info": {
   "codemirror_mode": {
    "name": "ipython",
    "version": 3
   },
   "file_extension": ".py",
   "mimetype": "text/x-python",
   "name": "python",
   "nbconvert_exporter": "python",
   "pygments_lexer": "ipython3",
   "version": "3.8.8"
  }
 },
 "nbformat": 4,
 "nbformat_minor": 5
}
