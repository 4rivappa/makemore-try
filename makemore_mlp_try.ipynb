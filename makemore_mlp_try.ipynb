{
 "cells": [
  {
   "cell_type": "code",
   "execution_count": 140,
   "id": "58a8a20a",
   "metadata": {},
   "outputs": [],
   "source": [
    "import torch\n",
    "import torch.nn.functional as F\n",
    "import matplotlib.pyplot as plt"
   ]
  },
  {
   "cell_type": "code",
   "execution_count": 141,
   "id": "e2ebf311",
   "metadata": {},
   "outputs": [
    {
     "data": {
      "text/plain": [
       "32033"
      ]
     },
     "execution_count": 141,
     "metadata": {},
     "output_type": "execute_result"
    }
   ],
   "source": [
    "words = open('names.txt', 'r').read().splitlines()\n",
    "len(words)"
   ]
  },
  {
   "cell_type": "code",
   "execution_count": 142,
   "id": "d78ce171",
   "metadata": {},
   "outputs": [],
   "source": [
    "chars = sorted(list(set(''.join(words))))\n",
    "chars = ['.'] + chars\n",
    "stoi = {n:i for i,n in enumerate(chars)}\n",
    "itos = {n:i for i,n in stoi.items()}"
   ]
  },
  {
   "cell_type": "code",
   "execution_count": 143,
   "id": "7c78368f",
   "metadata": {},
   "outputs": [
    {
     "data": {
      "text/plain": [
       "(torch.Size([182469, 3]), torch.Size([182469]))"
      ]
     },
     "execution_count": 143,
     "metadata": {},
     "output_type": "execute_result"
    }
   ],
   "source": [
    "def build_dataset(words):\n",
    "    block_size = 3\n",
    "    X, Y = [], []\n",
    "    for w in words:\n",
    "        context = '.'*block_size\n",
    "        for i, ch in enumerate(w + '.'):\n",
    "            curr_x = context\n",
    "            req = block_size - len(context)\n",
    "            temp_w = w[:i]\n",
    "            temp_w = temp_w[len(temp_w)-req:]\n",
    "            curr_x += temp_w\n",
    "            context = context[:-1]\n",
    "    #         print(curr_x, \"---->\", curr_y)\n",
    "            X.append([stoi[x_ch] for x_ch in curr_x])\n",
    "            Y.append(stoi[ch])\n",
    "    X = torch.tensor(X)\n",
    "    Y = torch.tensor(Y)\n",
    "    return X, Y\n",
    "\n",
    "# X = torch.tensor(X)\n",
    "# Y = torch.tensor(Y)\n",
    "# X[0], X.shape, Y.shape\n",
    "\n",
    "import random\n",
    "random.seed(40)\n",
    "random.shuffle(words)\n",
    "n1 = int(0.8 * len(words))\n",
    "n2 = int(0.9 * len(words))\n",
    "\n",
    "Xtr, Ytr = build_dataset(words[:n1])\n",
    "Xdev, Ydev = build_dataset(words[n1:n2])\n",
    "Xte, Yte = build_dataset(words[n2:])\n",
    "\n",
    "Xtr.shape, Ytr.shape"
   ]
  },
  {
   "cell_type": "code",
   "execution_count": 144,
   "id": "6b9ca7b6",
   "metadata": {},
   "outputs": [],
   "source": [
    "# C = torch.randn((len(chars), 2))"
   ]
  },
  {
   "cell_type": "code",
   "execution_count": 145,
   "id": "29bcc36f",
   "metadata": {},
   "outputs": [],
   "source": [
    "# emb = C[X]\n",
    "# emb.shape"
   ]
  },
  {
   "cell_type": "code",
   "execution_count": 146,
   "id": "24540afb",
   "metadata": {},
   "outputs": [],
   "source": [
    "# W1 = torch.randn((6, 100), requires_grad=True)\n",
    "# b1 = torch.randn(100)\n",
    "# W1.shape, b1.shape"
   ]
  },
  {
   "cell_type": "code",
   "execution_count": 147,
   "id": "b1ff720a",
   "metadata": {},
   "outputs": [],
   "source": [
    "### Exploring pytorch ###\n",
    "\n",
    "# torch.cat(torch.unbind(emb, 1), 1)\n",
    "# torch.unbind(emb, 1)\n",
    "# emb.storage()\n",
    "# emb.view(12, 6)\n",
    "    # emb.view(-1, 6) # -> here -1 take cares about the remaining count like 12*6/6"
   ]
  },
  {
   "cell_type": "code",
   "execution_count": 148,
   "id": "d0cd07c3",
   "metadata": {},
   "outputs": [],
   "source": [
    "# A1 = torch.tanh(emb.view(-1, 6) @ W1 + b1)\n",
    "# A1.shape"
   ]
  },
  {
   "cell_type": "code",
   "execution_count": 149,
   "id": "0b7a0cbf",
   "metadata": {},
   "outputs": [],
   "source": [
    "# W2 = torch.randn((100, len(chars)), requires_grad=True)\n",
    "# b2 = torch.randn(len(chars))"
   ]
  },
  {
   "cell_type": "code",
   "execution_count": 150,
   "id": "775d0028",
   "metadata": {},
   "outputs": [],
   "source": [
    "######## my try ##########\n",
    "\n",
    "# logits = A1 @ W2 + b2\n",
    "# counts = logits.exp()\n",
    "# probs = counts / counts.sum(1, keepdims=True)\n",
    "# loss = -probs[torch.arange(12), Y].log().mean()\n",
    "# print(loss)\n",
    "\n",
    "# W2.grad = None\n",
    "# W1.grad = None\n",
    "# loss.backward(retain_graph=True)\n",
    "\n",
    "# W2.data += -10*W2.grad\n",
    "# W1.data += -10*W1.grad\n",
    "\n",
    "###########################"
   ]
  },
  {
   "cell_type": "code",
   "execution_count": null,
   "id": "9ca80dd4",
   "metadata": {},
   "outputs": [],
   "source": []
  },
  {
   "cell_type": "code",
   "execution_count": 151,
   "id": "38840d84",
   "metadata": {},
   "outputs": [],
   "source": [
    "######## Making respectable :) ########"
   ]
  },
  {
   "cell_type": "code",
   "execution_count": 152,
   "id": "722c625d",
   "metadata": {},
   "outputs": [
    {
     "data": {
      "text/plain": [
       "(torch.Size([182469, 3]), torch.Size([182469]))"
      ]
     },
     "execution_count": 152,
     "metadata": {},
     "output_type": "execute_result"
    }
   ],
   "source": [
    "Xtr.shape, Ytr.shape"
   ]
  },
  {
   "cell_type": "code",
   "execution_count": 153,
   "id": "5ae1bea3",
   "metadata": {},
   "outputs": [],
   "source": [
    "# parameters\n",
    "C = torch.randn((len(chars), 4))\n",
    "W1 = torch.randn((12, 150))\n",
    "b1 = torch.randn(150)\n",
    "W2 = torch.randn((150, len(chars)))\n",
    "b2 = torch.randn(len(chars))\n",
    "parameters = [C, W1, b1, W2, b2]"
   ]
  },
  {
   "cell_type": "code",
   "execution_count": 154,
   "id": "b26aaa93",
   "metadata": {},
   "outputs": [
    {
     "data": {
      "text/plain": [
       "6135"
      ]
     },
     "execution_count": 154,
     "metadata": {},
     "output_type": "execute_result"
    }
   ],
   "source": [
    "# setting require_grad to True for parameters\n",
    "for p in parameters:\n",
    "    p.requires_grad = True\n",
    "# parameters in total\n",
    "sum(p.nelement() for p in parameters)"
   ]
  },
  {
   "cell_type": "code",
   "execution_count": 155,
   "id": "266fd1bd",
   "metadata": {},
   "outputs": [],
   "source": [
    "# for _ in range(10):\n",
    "#     ## forward\n",
    "#     emb = C[X]\n",
    "#     A1 = torch.tanh(emb.view(-1, 6) @ W1 + b1)\n",
    "#     logits = A1 @ W2 + b2\n",
    "\n",
    "#     # # now applying softmax\n",
    "#     # counts = logits.exp()\n",
    "#     # probs = counts / counts.sum(1, keepdims=True)\n",
    "#     # # calculating loss by mean of negative log likelihoods\n",
    "#     # loss = -probs[torch.arange(12), Y].log().mean()\n",
    "\n",
    "#     # In above lines we are calculating softmax and then loss\n",
    "#     # This is common and we do have a pytorch inbuilt function pytorch.nn.functional.cross_entropy()\n",
    "#     # >> Which computes cross entropy between input and target (here logits and Y)...\n",
    "\n",
    "#     loss = F.cross_entropy(logits, Y)\n",
    "\n",
    "#     ## backward\n",
    "#     for p in parameters:\n",
    "#         p.grad = None\n",
    "#     loss.backward()\n",
    "\n",
    "#     ## updation\n",
    "#     for p in parameters:\n",
    "#         p.data += -0.1 * p.grad\n",
    "\n",
    "#     print(loss.item())"
   ]
  },
  {
   "cell_type": "code",
   "execution_count": 156,
   "id": "e17257bb",
   "metadata": {},
   "outputs": [],
   "source": [
    "## Exploring about learning rates\n",
    "\n",
    "# lets say learning rates are\n",
    "lr_exponential = torch.linspace(-3, 0, 1000)\n",
    "lrates = 10 ** lr_exponential"
   ]
  },
  {
   "cell_type": "code",
   "execution_count": 158,
   "id": "2e3c7fc1",
   "metadata": {},
   "outputs": [
    {
     "name": "stdout",
     "output_type": "stream",
     "text": [
      "2.1060609817504883\n"
     ]
    }
   ],
   "source": [
    "## keeping track of learning rates and respective losses\n",
    "lr_index, loss_index = [], []\n",
    "\n",
    "for i in range(10000):\n",
    "    ## training through batches - batch construct\n",
    "    ix = torch.randint(0, Xtr.shape[0], (32,))\n",
    "    \n",
    "    ## forward\n",
    "    emb = C[Xtr[ix]]\n",
    "    A1 = torch.tanh(emb.view(-1, 12) @ W1 + b1)\n",
    "    logits = A1 @ W2 + b2\n",
    "\n",
    "    # # now applying softmax\n",
    "    # counts = logits.exp()\n",
    "    # probs = counts / counts.sum(1, keepdims=True)\n",
    "    # # calculating loss by mean of negative log likelihoods\n",
    "    # loss = -probs[torch.arange(12), Y].log().mean()\n",
    "\n",
    "    # In above lines we are calculating softmax and then loss\n",
    "    # This is common and we do have a pytorch inbuilt function pytorch.nn.functional.cross_entropy()\n",
    "    # >> Which computes cross entropy between input and target (here logits and Y)...\n",
    "\n",
    "    loss = F.cross_entropy(logits, Ytr[ix])\n",
    "\n",
    "    ## backward\n",
    "    for p in parameters:\n",
    "        p.grad = None\n",
    "    loss.backward()\n",
    "\n",
    "    ## normal updation\n",
    "#     for p in parameters:\n",
    "#         p.data += -0.1 * p.grad\n",
    "    \n",
    "    ## learning rate updation\n",
    "#     lr = lrates[i]\n",
    "#     lr = 10 ** -1\n",
    "    lr = 0.1 if i < 7000 else 0.01\n",
    "    for p in parameters:\n",
    "        p.data += -lr * p.grad\n",
    "    \n",
    "    ## keeping track of lr, loss\n",
    "#     lr_index.append(lr_exponential[i])\n",
    "#     loss_index.append(loss.item())\n",
    "\n",
    "#     print(loss.item())\n",
    "print(loss.item())"
   ]
  },
  {
   "cell_type": "code",
   "execution_count": 84,
   "id": "7442b84e",
   "metadata": {},
   "outputs": [],
   "source": [
    "# plt.plot(lr_index, loss_index)\n",
    "\n",
    "# ## from graph we can observe that, -1.0 is a pretty good exponential power for our learning rate"
   ]
  },
  {
   "cell_type": "code",
   "execution_count": 162,
   "id": "2b5c572a",
   "metadata": {},
   "outputs": [
    {
     "name": "stdout",
     "output_type": "stream",
     "text": [
      "2.34816837310791\n"
     ]
    }
   ],
   "source": [
    "## calculating loss for full training set\n",
    "\n",
    "emb = C[Xdev]\n",
    "A1 = torch.tanh(emb.view(-1, 12) @ W1 + b1)\n",
    "logits = A1 @ W2 + b2\n",
    "loss = F.cross_entropy(logits, Ydev)\n",
    "print(loss.item())"
   ]
  },
  {
   "cell_type": "code",
   "execution_count": 163,
   "id": "6fa435d5",
   "metadata": {},
   "outputs": [],
   "source": [
    "\n",
    "## In some cases, neural networks are very powerful to even memorize all the training set - oversetting\n",
    "\n",
    "# Due to these reasons, we do care a lot about dividing total dataset into 3\n",
    "# >> Training Split, Dev/Validation Split, Test Split\n",
    "# >> 80 % , 10 % , 10 %\n",
    "\n",
    "# We are given a very few times to check loss on dev/validation set  (unseen data for the model)\n",
    "# And a single time run for Test Set - which is gonna be the performance metrics for your model, which is used in paper, etc..\n",
    "\n",
    "# Training and Dev losses are nearly equal then we are not overfitting the model - It's good"
   ]
  },
  {
   "cell_type": "code",
   "execution_count": 165,
   "id": "7b940361",
   "metadata": {},
   "outputs": [
    {
     "name": "stdout",
     "output_type": "stream",
     "text": [
      "sandryt.\n",
      "sebilly.\n",
      "pra.\n",
      "vucllina.\n",
      "zarha.\n",
      "khiai.\n",
      "kalan.\n",
      "brio.\n",
      "typar.\n",
      "larini.\n",
      "brelana.\n",
      "aunoda.\n",
      "eeb.\n",
      "layestolli.\n",
      "iah.\n",
      "nye.\n",
      "remanna.\n",
      "neya.\n",
      "mid.\n",
      "rahnaih.\n"
     ]
    }
   ],
   "source": [
    "for _ in range(20):\n",
    "    out = []\n",
    "    context = [0] * block_size\n",
    "    while True:\n",
    "        emb = C[torch.tensor([context])]\n",
    "        A1 = torch.tanh(emb.view(1, -1) @ W1 + b1)\n",
    "        logits = A1 @ W2 + b2\n",
    "        probs = F.softmax(logits, dim=1)\n",
    "        ix = torch.multinomial(probs, num_samples=1).item()\n",
    "        context = context[1:] + [ix]\n",
    "        out.append(ix)\n",
    "        if ix == 0:\n",
    "            break\n",
    "    print(''.join(itos[i] for i in out))"
   ]
  },
  {
   "cell_type": "code",
   "execution_count": null,
   "id": "87281099",
   "metadata": {},
   "outputs": [],
   "source": []
  }
 ],
 "metadata": {
  "kernelspec": {
   "display_name": "Python 3",
   "language": "python",
   "name": "python3"
  },
  "language_info": {
   "codemirror_mode": {
    "name": "ipython",
    "version": 3
   },
   "file_extension": ".py",
   "mimetype": "text/x-python",
   "name": "python",
   "nbconvert_exporter": "python",
   "pygments_lexer": "ipython3",
   "version": "3.8.8"
  }
 },
 "nbformat": 4,
 "nbformat_minor": 5
}
