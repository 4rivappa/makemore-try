{
 "cells": [
  {
   "cell_type": "code",
   "execution_count": 199,
   "id": "58a8a20a",
   "metadata": {},
   "outputs": [],
   "source": [
    "import torch\n",
    "import torch.nn.functional as F\n",
    "import matplotlib.pyplot as plt"
   ]
  },
  {
   "cell_type": "code",
   "execution_count": 200,
   "id": "e2ebf311",
   "metadata": {},
   "outputs": [
    {
     "data": {
      "text/plain": [
       "32033"
      ]
     },
     "execution_count": 200,
     "metadata": {},
     "output_type": "execute_result"
    }
   ],
   "source": [
    "words = open('names.txt', 'r').read().splitlines()\n",
    "len(words)"
   ]
  },
  {
   "cell_type": "code",
   "execution_count": 201,
   "id": "d78ce171",
   "metadata": {},
   "outputs": [],
   "source": [
    "chars = sorted(list(set(''.join(words))))\n",
    "chars = ['.'] + chars\n",
    "stoi = {n:i for i,n in enumerate(chars)}\n",
    "itos = {n:i for i,n in stoi.items()}"
   ]
  },
  {
   "cell_type": "code",
   "execution_count": 202,
   "id": "7c78368f",
   "metadata": {},
   "outputs": [
    {
     "data": {
      "text/plain": [
       "(torch.Size([228146, 3]), torch.Size([228146]))"
      ]
     },
     "execution_count": 202,
     "metadata": {},
     "output_type": "execute_result"
    }
   ],
   "source": [
    "block_size = 3\n",
    "X, Y = [], []\n",
    "for w in words:\n",
    "    context = '.'*block_size\n",
    "    for i, ch in enumerate(w + '.'):\n",
    "        curr_x = context\n",
    "        req = block_size - len(context)\n",
    "        temp_w = w[:i]\n",
    "        temp_w = temp_w[len(temp_w)-req:]\n",
    "        curr_x += temp_w\n",
    "        context = context[:-1]\n",
    "#         print(curr_x, \"---->\", curr_y)\n",
    "        X.append([stoi[x_ch] for x_ch in curr_x])\n",
    "        Y.append(stoi[ch])\n",
    "X = torch.tensor(X)\n",
    "Y = torch.tensor(Y)\n",
    "X.shape, Y.shape"
   ]
  },
  {
   "cell_type": "code",
   "execution_count": 198,
   "id": "6b9ca7b6",
   "metadata": {},
   "outputs": [],
   "source": [
    "# C = torch.randn((len(chars), 2))"
   ]
  },
  {
   "cell_type": "code",
   "execution_count": 197,
   "id": "29bcc36f",
   "metadata": {},
   "outputs": [],
   "source": [
    "# emb = C[X]\n",
    "# emb.shape"
   ]
  },
  {
   "cell_type": "code",
   "execution_count": 166,
   "id": "24540afb",
   "metadata": {},
   "outputs": [],
   "source": [
    "# W1 = torch.randn((6, 100), requires_grad=True)\n",
    "# b1 = torch.randn(100)\n",
    "# W1.shape, b1.shape"
   ]
  },
  {
   "cell_type": "code",
   "execution_count": 150,
   "id": "b1ff720a",
   "metadata": {},
   "outputs": [],
   "source": [
    "### Exploring pytorch ###\n",
    "\n",
    "# torch.cat(torch.unbind(emb, 1), 1)\n",
    "# torch.unbind(emb, 1)\n",
    "# emb.storage()\n",
    "# emb.view(12, 6)\n",
    "    # emb.view(-1, 6) # -> here -1 take cares about the remaining count like 12*6/6"
   ]
  },
  {
   "cell_type": "code",
   "execution_count": 165,
   "id": "d0cd07c3",
   "metadata": {},
   "outputs": [],
   "source": [
    "# A1 = torch.tanh(emb.view(-1, 6) @ W1 + b1)\n",
    "# A1.shape"
   ]
  },
  {
   "cell_type": "code",
   "execution_count": 160,
   "id": "0b7a0cbf",
   "metadata": {},
   "outputs": [],
   "source": [
    "# W2 = torch.randn((100, len(chars)), requires_grad=True)\n",
    "# b2 = torch.randn(len(chars))"
   ]
  },
  {
   "cell_type": "code",
   "execution_count": 164,
   "id": "775d0028",
   "metadata": {},
   "outputs": [],
   "source": [
    "######## my try ##########\n",
    "\n",
    "# logits = A1 @ W2 + b2\n",
    "# counts = logits.exp()\n",
    "# probs = counts / counts.sum(1, keepdims=True)\n",
    "# loss = -probs[torch.arange(12), Y].log().mean()\n",
    "# print(loss)\n",
    "\n",
    "# W2.grad = None\n",
    "# W1.grad = None\n",
    "# loss.backward(retain_graph=True)\n",
    "\n",
    "# W2.data += -10*W2.grad\n",
    "# W1.data += -10*W1.grad\n",
    "\n",
    "###########################"
   ]
  },
  {
   "cell_type": "code",
   "execution_count": null,
   "id": "9ca80dd4",
   "metadata": {},
   "outputs": [],
   "source": []
  },
  {
   "cell_type": "code",
   "execution_count": 167,
   "id": "38840d84",
   "metadata": {},
   "outputs": [],
   "source": [
    "######## Making respectable :) ########"
   ]
  },
  {
   "cell_type": "code",
   "execution_count": 203,
   "id": "722c625d",
   "metadata": {},
   "outputs": [
    {
     "data": {
      "text/plain": [
       "(torch.Size([228146, 3]), torch.Size([228146]))"
      ]
     },
     "execution_count": 203,
     "metadata": {},
     "output_type": "execute_result"
    }
   ],
   "source": [
    "X.shape, Y.shape"
   ]
  },
  {
   "cell_type": "code",
   "execution_count": 204,
   "id": "5ae1bea3",
   "metadata": {},
   "outputs": [],
   "source": [
    "# parameters\n",
    "C = torch.randn((len(chars), 2))\n",
    "W1 = torch.randn((6, 100))\n",
    "b1 = torch.randn(100)\n",
    "W2 = torch.randn((100, len(chars)))\n",
    "b2 = torch.randn(len(chars))\n",
    "parameters = [C, W1, b1, W2, b2]"
   ]
  },
  {
   "cell_type": "code",
   "execution_count": 205,
   "id": "b26aaa93",
   "metadata": {},
   "outputs": [
    {
     "data": {
      "text/plain": [
       "3481"
      ]
     },
     "execution_count": 205,
     "metadata": {},
     "output_type": "execute_result"
    }
   ],
   "source": [
    "# setting require_grad to True for parameters\n",
    "for p in parameters:\n",
    "    p.requires_grad = True\n",
    "# parameters in total\n",
    "sum(p.nelement() for p in parameters)"
   ]
  },
  {
   "cell_type": "code",
   "execution_count": 207,
   "id": "266fd1bd",
   "metadata": {},
   "outputs": [],
   "source": [
    "# for _ in range(10):\n",
    "#     ## forward\n",
    "#     emb = C[X]\n",
    "#     A1 = torch.tanh(emb.view(-1, 6) @ W1 + b1)\n",
    "#     logits = A1 @ W2 + b2\n",
    "\n",
    "#     # # now applying softmax\n",
    "#     # counts = logits.exp()\n",
    "#     # probs = counts / counts.sum(1, keepdims=True)\n",
    "#     # # calculating loss by mean of negative log likelihoods\n",
    "#     # loss = -probs[torch.arange(12), Y].log().mean()\n",
    "\n",
    "#     # In above lines we are calculating softmax and then loss\n",
    "#     # This is common and we do have a pytorch inbuilt function pytorch.nn.functional.cross_entropy()\n",
    "#     # >> Which computes cross entropy between input and target (here logits and Y)...\n",
    "\n",
    "#     loss = F.cross_entropy(logits, Y)\n",
    "\n",
    "#     ## backward\n",
    "#     for p in parameters:\n",
    "#         p.grad = None\n",
    "#     loss.backward()\n",
    "\n",
    "#     ## updation\n",
    "#     for p in parameters:\n",
    "#         p.data += -0.1 * p.grad\n",
    "\n",
    "#     print(loss.item())"
   ]
  },
  {
   "cell_type": "code",
   "execution_count": 212,
   "id": "2e3c7fc1",
   "metadata": {},
   "outputs": [
    {
     "name": "stdout",
     "output_type": "stream",
     "text": [
      "torch.Size([32])\n",
      "5.268311500549316\n",
      "torch.Size([32])\n",
      "7.266613006591797\n",
      "torch.Size([32])\n",
      "4.971206188201904\n",
      "torch.Size([32])\n",
      "7.393373489379883\n",
      "torch.Size([32])\n",
      "6.548801422119141\n",
      "torch.Size([32])\n",
      "5.401449680328369\n",
      "torch.Size([32])\n",
      "5.703242778778076\n",
      "torch.Size([32])\n",
      "5.228228569030762\n",
      "torch.Size([32])\n",
      "6.0923004150390625\n",
      "torch.Size([32])\n",
      "5.413201808929443\n"
     ]
    }
   ],
   "source": [
    "for _ in range(10):\n",
    "    ## training through batches - batch construct\n",
    "    ix = torch.randint(0, X.shape[0], (32,))\n",
    "    \n",
    "    ## forward\n",
    "    emb = C[X[ix]]\n",
    "    A1 = torch.tanh(emb.view(-1, 6) @ W1 + b1)\n",
    "    logits = A1 @ W2 + b2\n",
    "\n",
    "    # # now applying softmax\n",
    "    # counts = logits.exp()\n",
    "    # probs = counts / counts.sum(1, keepdims=True)\n",
    "    # # calculating loss by mean of negative log likelihoods\n",
    "    # loss = -probs[torch.arange(12), Y].log().mean()\n",
    "\n",
    "    # In above lines we are calculating softmax and then loss\n",
    "    # This is common and we do have a pytorch inbuilt function pytorch.nn.functional.cross_entropy()\n",
    "    # >> Which computes cross entropy between input and target (here logits and Y)...\n",
    "\n",
    "    loss = F.cross_entropy(logits, Y[ix])\n",
    "\n",
    "    ## backward\n",
    "    for p in parameters:\n",
    "        p.grad = None\n",
    "    loss.backward()\n",
    "\n",
    "    ## updation\n",
    "    for p in parameters:\n",
    "        p.data += -0.1 * p.grad\n",
    "\n",
    "    print(loss.item())"
   ]
  },
  {
   "cell_type": "code",
   "execution_count": 209,
   "id": "2b5c572a",
   "metadata": {},
   "outputs": [
    {
     "data": {
      "text/plain": [
       "torch.Size([228146, 3])"
      ]
     },
     "execution_count": 209,
     "metadata": {},
     "output_type": "execute_result"
    }
   ],
   "source": [
    "X.shape"
   ]
  },
  {
   "cell_type": "code",
   "execution_count": null,
   "id": "6fa435d5",
   "metadata": {},
   "outputs": [],
   "source": []
  }
 ],
 "metadata": {
  "kernelspec": {
   "display_name": "Python 3",
   "language": "python",
   "name": "python3"
  },
  "language_info": {
   "codemirror_mode": {
    "name": "ipython",
    "version": 3
   },
   "file_extension": ".py",
   "mimetype": "text/x-python",
   "name": "python",
   "nbconvert_exporter": "python",
   "pygments_lexer": "ipython3",
   "version": "3.8.8"
  }
 },
 "nbformat": 4,
 "nbformat_minor": 5
}
