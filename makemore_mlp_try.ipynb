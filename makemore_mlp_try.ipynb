{
 "cells": [
  {
   "cell_type": "code",
   "execution_count": 90,
   "id": "58a8a20a",
   "metadata": {},
   "outputs": [],
   "source": [
    "import torch\n",
    "import torch.nn.functional as F\n",
    "import matplotlib.pyplot as plt"
   ]
  },
  {
   "cell_type": "code",
   "execution_count": 91,
   "id": "e2ebf311",
   "metadata": {},
   "outputs": [
    {
     "data": {
      "text/plain": [
       "32033"
      ]
     },
     "execution_count": 91,
     "metadata": {},
     "output_type": "execute_result"
    }
   ],
   "source": [
    "words = open('names.txt', 'r').read().splitlines()\n",
    "len(words)"
   ]
  },
  {
   "cell_type": "code",
   "execution_count": 92,
   "id": "d78ce171",
   "metadata": {},
   "outputs": [],
   "source": [
    "chars = sorted(list(set(''.join(words))))\n",
    "chars = ['.'] + chars\n",
    "stoi = {n:i for i,n in enumerate(chars)}\n",
    "itos = {n:i for i,n in stoi.items()}"
   ]
  },
  {
   "cell_type": "code",
   "execution_count": 93,
   "id": "7c78368f",
   "metadata": {},
   "outputs": [
    {
     "data": {
      "text/plain": [
       "(torch.Size([182469, 3]), torch.Size([182469]))"
      ]
     },
     "execution_count": 93,
     "metadata": {},
     "output_type": "execute_result"
    }
   ],
   "source": [
    "def build_dataset(words):\n",
    "    block_size = 3\n",
    "    X, Y = [], []\n",
    "    for w in words:\n",
    "        context = '.'*block_size\n",
    "        for i, ch in enumerate(w + '.'):\n",
    "            curr_x = context\n",
    "            req = block_size - len(context)\n",
    "            temp_w = w[:i]\n",
    "            temp_w = temp_w[len(temp_w)-req:]\n",
    "            curr_x += temp_w\n",
    "            context = context[:-1]\n",
    "    #         print(curr_x, \"---->\", curr_y)\n",
    "            X.append([stoi[x_ch] for x_ch in curr_x])\n",
    "            Y.append(stoi[ch])\n",
    "    X = torch.tensor(X)\n",
    "    Y = torch.tensor(Y)\n",
    "    return X, Y\n",
    "\n",
    "# X = torch.tensor(X)\n",
    "# Y = torch.tensor(Y)\n",
    "# X[0], X.shape, Y.shape\n",
    "\n",
    "import random\n",
    "random.seed(40)\n",
    "random.shuffle(words)\n",
    "n1 = int(0.8 * len(words))\n",
    "n2 = int(0.9 * len(words))\n",
    "\n",
    "Xtr, Ytr = build_dataset(words[:n1])\n",
    "Xdev, Ydev = build_dataset(words[n1:n2])\n",
    "Xte, Yte = build_dataset(words[n2:])\n",
    "\n",
    "Xtr.shape, Ytr.shape"
   ]
  },
  {
   "cell_type": "code",
   "execution_count": 6,
   "id": "6b9ca7b6",
   "metadata": {},
   "outputs": [],
   "source": [
    "# C = torch.randn((len(chars), 2))"
   ]
  },
  {
   "cell_type": "code",
   "execution_count": 7,
   "id": "29bcc36f",
   "metadata": {},
   "outputs": [],
   "source": [
    "# emb = C[X]\n",
    "# emb.shape"
   ]
  },
  {
   "cell_type": "code",
   "execution_count": 8,
   "id": "24540afb",
   "metadata": {},
   "outputs": [],
   "source": [
    "# W1 = torch.randn((6, 100), requires_grad=True)\n",
    "# b1 = torch.randn(100)\n",
    "# W1.shape, b1.shape"
   ]
  },
  {
   "cell_type": "code",
   "execution_count": 9,
   "id": "b1ff720a",
   "metadata": {},
   "outputs": [],
   "source": [
    "### Exploring pytorch ###\n",
    "\n",
    "# torch.cat(torch.unbind(emb, 1), 1)\n",
    "# torch.unbind(emb, 1)\n",
    "# emb.storage()\n",
    "# emb.view(12, 6)\n",
    "    # emb.view(-1, 6) # -> here -1 take cares about the remaining count like 12*6/6"
   ]
  },
  {
   "cell_type": "code",
   "execution_count": 10,
   "id": "d0cd07c3",
   "metadata": {},
   "outputs": [],
   "source": [
    "# A1 = torch.tanh(emb.view(-1, 6) @ W1 + b1)\n",
    "# A1.shape"
   ]
  },
  {
   "cell_type": "code",
   "execution_count": 11,
   "id": "0b7a0cbf",
   "metadata": {},
   "outputs": [],
   "source": [
    "# W2 = torch.randn((100, len(chars)), requires_grad=True)\n",
    "# b2 = torch.randn(len(chars))"
   ]
  },
  {
   "cell_type": "code",
   "execution_count": 12,
   "id": "775d0028",
   "metadata": {},
   "outputs": [],
   "source": [
    "######## my try ##########\n",
    "\n",
    "# logits = A1 @ W2 + b2\n",
    "# counts = logits.exp()\n",
    "# probs = counts / counts.sum(1, keepdims=True)\n",
    "# loss = -probs[torch.arange(12), Y].log().mean()\n",
    "# print(loss)\n",
    "\n",
    "# W2.grad = None\n",
    "# W1.grad = None\n",
    "# loss.backward(retain_graph=True)\n",
    "\n",
    "# W2.data += -10*W2.grad\n",
    "# W1.data += -10*W1.grad\n",
    "\n",
    "###########################"
   ]
  },
  {
   "cell_type": "code",
   "execution_count": null,
   "id": "9ca80dd4",
   "metadata": {},
   "outputs": [],
   "source": []
  },
  {
   "cell_type": "code",
   "execution_count": 13,
   "id": "38840d84",
   "metadata": {},
   "outputs": [],
   "source": [
    "######## Making respectable :) ########"
   ]
  },
  {
   "cell_type": "code",
   "execution_count": 94,
   "id": "722c625d",
   "metadata": {},
   "outputs": [
    {
     "data": {
      "text/plain": [
       "(torch.Size([182469, 3]), torch.Size([182469]))"
      ]
     },
     "execution_count": 94,
     "metadata": {},
     "output_type": "execute_result"
    }
   ],
   "source": [
    "Xtr.shape, Ytr.shape"
   ]
  },
  {
   "cell_type": "code",
   "execution_count": 95,
   "id": "5ae1bea3",
   "metadata": {},
   "outputs": [],
   "source": [
    "# parameters\n",
    "C = torch.randn((len(chars), 2))\n",
    "W1 = torch.randn((6, 100))\n",
    "b1 = torch.randn(100)\n",
    "W2 = torch.randn((100, len(chars)))\n",
    "b2 = torch.randn(len(chars))\n",
    "parameters = [C, W1, b1, W2, b2]"
   ]
  },
  {
   "cell_type": "code",
   "execution_count": 96,
   "id": "b26aaa93",
   "metadata": {},
   "outputs": [
    {
     "data": {
      "text/plain": [
       "3481"
      ]
     },
     "execution_count": 96,
     "metadata": {},
     "output_type": "execute_result"
    }
   ],
   "source": [
    "# setting require_grad to True for parameters\n",
    "for p in parameters:\n",
    "    p.requires_grad = True\n",
    "# parameters in total\n",
    "sum(p.nelement() for p in parameters)"
   ]
  },
  {
   "cell_type": "code",
   "execution_count": 48,
   "id": "266fd1bd",
   "metadata": {},
   "outputs": [],
   "source": [
    "# for _ in range(10):\n",
    "#     ## forward\n",
    "#     emb = C[X]\n",
    "#     A1 = torch.tanh(emb.view(-1, 6) @ W1 + b1)\n",
    "#     logits = A1 @ W2 + b2\n",
    "\n",
    "#     # # now applying softmax\n",
    "#     # counts = logits.exp()\n",
    "#     # probs = counts / counts.sum(1, keepdims=True)\n",
    "#     # # calculating loss by mean of negative log likelihoods\n",
    "#     # loss = -probs[torch.arange(12), Y].log().mean()\n",
    "\n",
    "#     # In above lines we are calculating softmax and then loss\n",
    "#     # This is common and we do have a pytorch inbuilt function pytorch.nn.functional.cross_entropy()\n",
    "#     # >> Which computes cross entropy between input and target (here logits and Y)...\n",
    "\n",
    "#     loss = F.cross_entropy(logits, Y)\n",
    "\n",
    "#     ## backward\n",
    "#     for p in parameters:\n",
    "#         p.grad = None\n",
    "#     loss.backward()\n",
    "\n",
    "#     ## updation\n",
    "#     for p in parameters:\n",
    "#         p.data += -0.1 * p.grad\n",
    "\n",
    "#     print(loss.item())"
   ]
  },
  {
   "cell_type": "code",
   "execution_count": 97,
   "id": "2373eed1",
   "metadata": {},
   "outputs": [],
   "source": [
    "## Exploring about learning rates\n",
    "\n",
    "# lets say learning rates are\n",
    "lr_exponential = torch.linspace(-3, 0, 1000)\n",
    "lrates = 10 ** lr_exponential"
   ]
  },
  {
   "cell_type": "code",
   "execution_count": 102,
   "id": "2e3c7fc1",
   "metadata": {},
   "outputs": [
    {
     "name": "stdout",
     "output_type": "stream",
     "text": [
      "2.3479912281036377\n"
     ]
    }
   ],
   "source": [
    "## keeping track of learning rates and respective losses\n",
    "lr_index, loss_index = [], []\n",
    "\n",
    "for i in range(10000):\n",
    "    ## training through batches - batch construct\n",
    "    ix = torch.randint(0, Xtr.shape[0], (32,))\n",
    "    \n",
    "    ## forward\n",
    "    emb = C[Xtr[ix]]\n",
    "    A1 = torch.tanh(emb.view(-1, 6) @ W1 + b1)\n",
    "    logits = A1 @ W2 + b2\n",
    "\n",
    "    # # now applying softmax\n",
    "    # counts = logits.exp()\n",
    "    # probs = counts / counts.sum(1, keepdims=True)\n",
    "    # # calculating loss by mean of negative log likelihoods\n",
    "    # loss = -probs[torch.arange(12), Y].log().mean()\n",
    "\n",
    "    # In above lines we are calculating softmax and then loss\n",
    "    # This is common and we do have a pytorch inbuilt function pytorch.nn.functional.cross_entropy()\n",
    "    # >> Which computes cross entropy between input and target (here logits and Y)...\n",
    "\n",
    "    loss = F.cross_entropy(logits, Ytr[ix])\n",
    "\n",
    "    ## backward\n",
    "    for p in parameters:\n",
    "        p.grad = None\n",
    "    loss.backward()\n",
    "\n",
    "    ## normal updation\n",
    "#     for p in parameters:\n",
    "#         p.data += -0.1 * p.grad\n",
    "    \n",
    "    ## learning rate updation\n",
    "#     lr = lrates[i]\n",
    "    lr = 10 ** -1\n",
    "    for p in parameters:\n",
    "        p.data += -lr * p.grad\n",
    "    \n",
    "    ## keeping track of lr, loss\n",
    "#     lr_index.append(lr_exponential[i])\n",
    "#     loss_index.append(loss.item())\n",
    "\n",
    "#     print(loss.item())\n",
    "print(loss.item())"
   ]
  },
  {
   "cell_type": "code",
   "execution_count": 84,
   "id": "e2b78516",
   "metadata": {},
   "outputs": [],
   "source": [
    "# plt.plot(lr_index, loss_index)\n",
    "\n",
    "# ## from graph we can observe that, -1.0 is a pretty good exponential power for our learning rate"
   ]
  },
  {
   "cell_type": "code",
   "execution_count": 103,
   "id": "2b5c572a",
   "metadata": {},
   "outputs": [
    {
     "name": "stdout",
     "output_type": "stream",
     "text": [
      "2.3685553073883057\n"
     ]
    }
   ],
   "source": [
    "## calculating loss for full training set\n",
    "\n",
    "emb = C[Xdev]\n",
    "A1 = torch.tanh(emb.view(-1, 6) @ W1 + b1)\n",
    "logits = A1 @ W2 + b2\n",
    "loss = F.cross_entropy(logits, Ydev)\n",
    "print(loss.item())"
   ]
  },
  {
   "cell_type": "code",
   "execution_count": null,
   "id": "6fa435d5",
   "metadata": {},
   "outputs": [],
   "source": [
    "\n",
    "## In some cases, neural networks are very powerful to even memorize all the training set - oversetting\n",
    "\n",
    "# Due to these reasons, we do care a lot about dividing total dataset into 3\n",
    "# >> Training Split, Dev/Validation Split, Test Split\n",
    "# >> 80 % , 10 % , 10 %\n",
    "\n",
    "# We are given a very few times to check loss on dev/validation set  (unseen data for the model)\n",
    "# And a single time run for Test Set - which is gonna be the performance metrics for your model, which is used in paper, etc..\n",
    "\n",
    "# Training and Dev losses are nearly equal then we are not overfitting the model - It's good"
   ]
  }
 ],
 "metadata": {
  "kernelspec": {
   "display_name": "Python 3",
   "language": "python",
   "name": "python3"
  },
  "language_info": {
   "codemirror_mode": {
    "name": "ipython",
    "version": 3
   },
   "file_extension": ".py",
   "mimetype": "text/x-python",
   "name": "python",
   "nbconvert_exporter": "python",
   "pygments_lexer": "ipython3",
   "version": "3.8.8"
  }
 },
 "nbformat": 4,
 "nbformat_minor": 5
}
